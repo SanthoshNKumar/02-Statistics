{
 "cells": [
  {
   "cell_type": "code",
   "execution_count": 1,
   "metadata": {},
   "outputs": [],
   "source": [
    "# import all the necessary packages:\n",
    "\n",
    "import numpy as np # for all numerical calculations\n",
    "\n",
    "import scipy.stats as stats # for statistics\n",
    "\n",
    "import matplotlib.pyplot as plt # for plots and visualizations"
   ]
  },
  {
   "cell_type": "markdown",
   "metadata": {},
   "source": [
    "# Q1: Please refer the table below to answer below questions:\n",
    "\n",
    "### 1. Refer to the above table and find the joint probability of the people who planned to purchase and actually placed an order."
   ]
  },
  {
   "cell_type": "code",
   "execution_count": 17,
   "metadata": {},
   "outputs": [
    {
     "name": "stdout",
     "output_type": "stream",
     "text": [
      "The joint probability of people who planned to purchase and actually placed an order is: 0.2\n"
     ]
    }
   ],
   "source": [
    "print(\"The joint probability of people who planned to purchase and actually placed an order is:\",(400/2000))"
   ]
  },
  {
   "cell_type": "markdown",
   "metadata": {},
   "source": [
    "#### Conclusion: The joint probability of the people who planned to purchase Product A and actually placed an order is 0.2."
   ]
  },
  {
   "cell_type": "markdown",
   "metadata": {},
   "source": [
    "\n",
    "### 2. Refer to the above table and find the joint probability of the people who planned to purchase and actually placed an order, given that people planned to purchase.\n",
    "\n",
    "Solution:\n",
    "\n",
    "Probability of A given B is written as P(A | B).\n",
    "\n",
    "$P(A\\mid B) = \\frac{P(A \\quad and \\quad B)}{P(B)}$\n",
    "\n",
    "where P(A and B) = Joint probability of A and B\n",
    "*     P(A)       = Marginal probability of A\n",
    "*     P(B)       = Marginal probability of B\n"
   ]
  },
  {
   "cell_type": "code",
   "execution_count": 20,
   "metadata": {},
   "outputs": [
    {
     "name": "stdout",
     "output_type": "stream",
     "text": [
      "The joint probability of people who planned to purchase and actually placed an order, given that people \n",
      "planned to purchase is: 0.8\n"
     ]
    }
   ],
   "source": [
    "prob = (400/2000) / (500/2000)\n",
    "print('''The joint probability of people who planned to purchase and actually placed an order, given that people \n",
    "planned to purchase is:''',prob)"
   ]
  },
  {
   "cell_type": "markdown",
   "metadata": {},
   "source": [
    "\n",
    "#### Conclusion: The joint probability of the people who planned to purchase Product A and actually placed an order, given that people planned to purchase is 0.8.\n"
   ]
  },
  {
   "cell_type": "markdown",
   "metadata": {},
   "source": [
    "# Q2: An electrical manufacturing company conducts quality checks at specified periods on the products it manufactures. Historically, the failure rate for the manufactured item is 5%. Suppose a random sample of 10 manufactured items is selected. Answer the following questions.\n",
    "\n",
    "## A. Probability that none of the items are defective?\n",
    "## B. Probability that exactly one of the items is defective?\n",
    "## C. Probability that two or fewer of the items are defective?\n",
    "## D. Probability that three or more of the items are defective ?"
   ]
  },
  {
   "cell_type": "code",
   "execution_count": 4,
   "metadata": {},
   "outputs": [],
   "source": [
    "# here, the total number of sample is 10.\n",
    "n = 10\n",
    "\n",
    "# failure rate is given as 5 %.\n",
    "p = 0.05\n",
    "q = 1-p\n",
    "k = np.arange(0,n+1)\n",
    "binom_dist = stats.binom.pmf(k,n,p)"
   ]
  },
  {
   "cell_type": "code",
   "execution_count": 10,
   "metadata": {},
   "outputs": [
    {
     "data": {
      "image/png": "[encoded data removed]",
      "text/plain": [
       "<Figure size 432x288 with 1 Axes>"
      ]
     },
     "metadata": {
      "needs_background": "light"
     },
     "output_type": "display_data"
    }
   ],
   "source": [
    "# Plot the binomial distribution curve.\n",
    "\n",
    "plt.plot(k,binom_dist,'o-')\n",
    "plt.title('Binomial: n=%i , p=%.2f' % (n,p), fontsize=15)\n",
    "plt.xlabel('Number of Manufactured Items')\n",
    "plt.ylabel('Probability of Failure')\n",
    "plt.show()"
   ]
  },
  {
   "cell_type": "markdown",
   "metadata": {},
   "source": [
    "## A. Probability that none of the items are defective."
   ]
  },
  {
   "cell_type": "code",
   "execution_count": 18,
   "metadata": {},
   "outputs": [
    {
     "name": "stdout",
     "output_type": "stream",
     "text": [
      "The probability that none of the items are defective is:  0.5987\n"
     ]
    }
   ],
   "source": [
    "print('The probability that none of the items are defective is: ',binom_dist[0].round(4))"
   ]
  },
  {
   "cell_type": "markdown",
   "metadata": {},
   "source": [
    "## B. Probability that exactly one of the items is defective."
   ]
  },
  {
   "cell_type": "code",
   "execution_count": 19,
   "metadata": {},
   "outputs": [
    {
     "name": "stdout",
     "output_type": "stream",
     "text": [
      "The probability that exactly one of the items defective is:  0.3151\n"
     ]
    }
   ],
   "source": [
    "print('The probability that exactly one of the items defective is: ',binom_dist[1].round(4))"
   ]
  },
  {
   "cell_type": "markdown",
   "metadata": {},
   "source": [
    "## C. Probability that two or fewer of the items are defective.\n",
    "\n",
    "### Here in this case we can also use the cumulative distribution function and obtain the results.\n",
    "### stats.binom.cdf(k,n,p)"
   ]
  },
  {
   "cell_type": "code",
   "execution_count": 23,
   "metadata": {},
   "outputs": [
    {
     "name": "stdout",
     "output_type": "stream",
     "text": [
      "Using pmf || The probability that two or fewer of the items are defective is:  0.9885\n",
      "Using cdf || The probability that two or fewer of the items are defective is:  0.9885\n"
     ]
    }
   ],
   "source": [
    "# using the probability mass function:\n",
    "print('Using pmf || The probability that two or fewer of the items are defective is: '\n",
    "      ,(binom_dist[0]+binom_dist[1]+binom_dist[2]).round(4))\n",
    "\n",
    "# using the cumulative distribution function:\n",
    "print('Using cdf || The probability that two or fewer of the items are defective is: ',stats.binom.cdf(k,n,p)[2].round(4))"
   ]
  },
  {
   "cell_type": "markdown",
   "metadata": {},
   "source": [
    "## Q3: A car salesman sells on an average 3 cars per week.\n",
    "\n",
    "### A. Probability that in a given week he will sell some cars.\n",
    "### B. Probability that in a given week he will sell 2 or more but less than 5 cars.\n",
    "### C. Plot the poisson distribution function for cumulative probability of cars sold per-week vs number of cars sold perweek."
   ]
  },
  {
   "cell_type": "code",
   "execution_count": 2,
   "metadata": {},
   "outputs": [],
   "source": [
    "# Given the average sales per week is 3 cars/week\n",
    "\n",
    "rate = 3\n",
    "k = np.arange(0,21)\n",
    "cdf_poisson = stats.poisson.cdf(k,rate)\n",
    "pmf_poisson = stats.poisson.pmf(k,rate)"
   ]
  },
  {
   "cell_type": "markdown",
   "metadata": {},
   "source": [
    "## A. Probability that in a given week he will sell some cars."
   ]
  },
  {
   "cell_type": "code",
   "execution_count": 4,
   "metadata": {},
   "outputs": [
    {
     "name": "stdout",
     "output_type": "stream",
     "text": [
      "Using cdf || The probability that in a given week he will sell some cars is:  0.9502\n",
      "Using pmf || The probability that in a given week he will sell some cars is:  0.9502\n"
     ]
    }
   ],
   "source": [
    "# Using cdf\n",
    "print(\"Using cdf || The probability that in a given week he will sell some cars is: \",(1-cdf_poisson[0]).round(4))\n",
    "\n",
    "\n",
    "# Using pmf\n",
    "print(\"Using pmf || The probability that in a given week he will sell some cars is: \",(1-pmf_poisson[0]).round(4))"
   ]
  },
  {
   "cell_type": "markdown",
   "metadata": {},
   "source": [
    "## B. Probability that in a given week he will sell 2 or more but less than 5 cars."
   ]
  },
  {
   "cell_type": "code",
   "execution_count": 5,
   "metadata": {},
   "outputs": [
    {
     "name": "stdout",
     "output_type": "stream",
     "text": [
      "Using cdf || The probability that in a given week he will sell some cars is:  0.6161\n",
      "Using pmf || The probability that in a given week he will sell some cars is:  0.6161\n"
     ]
    }
   ],
   "source": [
    "# Using cdf\n",
    "\n",
    "p_cdf = cdf_poisson[4]-cdf_poisson[1]\n",
    "\n",
    "print(\"Using cdf || The probability that in a given week he will sell some cars is: \",p_cdf.round(4))\n",
    "\n",
    "\n",
    "# Using pmf\n",
    "\n",
    "p_pmf = pmf_poisson[2] + pmf_poisson[3] + pmf_poisson[4]\n",
    "\n",
    "print(\"Using pmf || The probability that in a given week he will sell some cars is: \",p_pmf.round(4))"
   ]
  },
  {
   "cell_type": "code",
   "execution_count": 7,
   "metadata": {},
   "outputs": [
    {
     "data": {
      "image/png": "[encoded data removed]",
      "text/plain": [
       "<Figure size 432x288 with 1 Axes>"
      ]
     },
     "metadata": {
      "needs_background": "light"
     },
     "output_type": "display_data"
    }
   ],
   "source": [
    "plt.plot(k,pmf_poisson, 'o-')\n",
    "plt.title('Poisson Distribution')\n",
    "plt.xlabel('Number of Cars Sell per week')\n",
    "plt.ylabel('Probability of Cars Sell per week')\n",
    "plt.show()"
   ]
  },
  {
   "cell_type": "markdown",
   "metadata": {},
   "source": [
    "## Q4. Accuracy in understanding orders for a speech based bot at a restaurant is important for the Company X which has designed, marketed and launched the product for a contactless delivery due to the COVID-19 pandemic. Recognition accuracy that measures the percentage of orders that are taken correctly is 86.8%. Suppose that you place order with the bot and two friends of yours independently place orders with the same bot. Answer the following questions.\n",
    "\n",
    "### A. What is the probability that all three orders will be recognised correctly?\n",
    "### B. What is the probability that none of the three orders will be recognised correctly?\n",
    "### C. What is the probability that at least two of the three orders will be recognised correctly?"
   ]
  },
  {
   "cell_type": "code",
   "execution_count": 8,
   "metadata": {},
   "outputs": [],
   "source": [
    "# Given percentage of orders taken correctly is 86.8 %\n",
    "p = 0.868\n",
    "n = 3\n",
    "k = np.arange(0,n+1)\n",
    "binom_pmf = stats.binom.pmf(k,n,p)"
   ]
  },
  {
   "cell_type": "markdown",
   "metadata": {},
   "source": [
    "## A. What is the probability that all three orders will be recognised correctly?"
   ]
  },
  {
   "cell_type": "code",
   "execution_count": 9,
   "metadata": {},
   "outputs": [
    {
     "name": "stdout",
     "output_type": "stream",
     "text": [
      "The probability that all the three orders will be recognised correctly is:  0.9977\n"
     ]
    }
   ],
   "source": [
    "p_3 = binom_pmf[1] + binom_pmf[2] + binom_pmf[3]\n",
    "print(\"The probability that all the three orders will be recognised correctly is: \",p_3.round(4))"
   ]
  },
  {
   "cell_type": "markdown",
   "metadata": {},
   "source": [
    "## B. What is the probability that none of the three orders will be recognised correctly?"
   ]
  },
  {
   "cell_type": "code",
   "execution_count": 10,
   "metadata": {},
   "outputs": [
    {
     "name": "stdout",
     "output_type": "stream",
     "text": [
      "The probability that none of the three orders will be recognised correctly is:  0.0023\n"
     ]
    }
   ],
   "source": [
    "print(\"The probability that none of the three orders will be recognised correctly is: \",binom_pmf[0].round(4))"
   ]
  },
  {
   "cell_type": "markdown",
   "metadata": {},
   "source": [
    "## C. What is the probability that at least two of the three orders will be recognised correctly?"
   ]
  },
  {
   "cell_type": "code",
   "execution_count": 12,
   "metadata": {},
   "outputs": [
    {
     "name": "stdout",
     "output_type": "stream",
     "text": [
      "The probability that atleast two of the three orders will be recognised correctly is:  0.9523\n"
     ]
    }
   ],
   "source": [
    "print(\"The probability that atleast two of the three orders will be recognised correctly is: \"\n",
    "      ,(binom_pmf[2]+binom_pmf[3]).round(4))"
   ]
  },
  {
   "cell_type": "markdown",
   "metadata": {},
   "source": [
    "## Q5. A group of 300 professionals sat for a competitive exam. The results show the information of marks obtained by them have a mean of 60 and a standard deviation of 12. The pattern of marks follows a normal distribution. Answer the following questions.\n",
    "\n",
    "### A. What is the percentage of students who score more than 80.\n",
    "### B. What is the percentage of students who score less than 50.\n",
    "### C. What should be the distinction mark if the highest 10% of students are to be awarded distinction?"
   ]
  },
  {
   "cell_type": "code",
   "execution_count": 38,
   "metadata": {},
   "outputs": [],
   "source": [
    "# Given the distribution to be normal distribution.\n",
    "\n",
    "n = 300\n",
    "mean = 60\n",
    "stdev = 12"
   ]
  },
  {
   "cell_type": "markdown",
   "metadata": {},
   "source": [
    "## A. What is the percentage of students who score more than 80."
   ]
  },
  {
   "cell_type": "code",
   "execution_count": 39,
   "metadata": {},
   "outputs": [
    {
     "name": "stdout",
     "output_type": "stream",
     "text": [
      "The percentage of students who score more than 80 is: 4.78 %\n"
     ]
    }
   ],
   "source": [
    "# probability of students who scores more than 80.\n",
    "\n",
    "p_80 = stats.norm.cdf(80,loc=60,scale=12)\n",
    "p_80 = 1-p_80\n",
    "\n",
    "print(\"The percentage of students who score more than 80 is:\",(p_80*100).round(2),\"%\")"
   ]
  },
  {
   "cell_type": "markdown",
   "metadata": {},
   "source": [
    "## B. What is the percentage of students who score less than 50."
   ]
  },
  {
   "cell_type": "code",
   "execution_count": 40,
   "metadata": {},
   "outputs": [
    {
     "name": "stdout",
     "output_type": "stream",
     "text": [
      "The percentage of students who score less than 50 is: 20.23 %\n"
     ]
    }
   ],
   "source": [
    "# probability of students who scores less than 50.\n",
    "\n",
    "p_50 = stats.norm.cdf(50,loc=60,scale=12)\n",
    "p_50\n",
    "\n",
    "print(\"The percentage of students who score less than 50 is:\",(p_50*100).round(2),\"%\")"
   ]
  },
  {
   "cell_type": "markdown",
   "metadata": {},
   "source": [
    "## C. What should be the distinction mark if the highest 10% of students are to be awarded distinction?"
   ]
  },
  {
   "cell_type": "markdown",
   "metadata": {},
   "source": [
    "Highest 10 % are to be awarded distinction marks.\n",
    "In this problem, we have to find the X value for 90th percentile i.e., 90% of the students below that value and 10 % of the students above that.\n",
    "\n",
    "To compute the 90th percentile, we use the formula,\n",
    "\n",
    "$ X = μ + Zσ $, and we will use the standard normal distribution table, except that we will work in the opposite direction."
   ]
  },
  {
   "cell_type": "code",
   "execution_count": 42,
   "metadata": {},
   "outputs": [
    {
     "name": "stdout",
     "output_type": "stream",
     "text": [
      "The marks above which the distinction to be awarded is:  75.384\n"
     ]
    }
   ],
   "source": [
    "# The value of Z holding 90 % of the values below it is 1.282 as per the standard normal distribution table.\n",
    "\n",
    "x = mean + 1.282 * stdev\n",
    "\n",
    "print(\"The marks above which the distinction to be awarded is: \", x)"
   ]
  },
  {
   "cell_type": "markdown",
   "metadata": {},
   "source": [
    "## Q6. Explain 1 real life industry scenario [other than the ones mentioned above] where you can use the concepts learnt in this module of Applied statistics to get a data driven business solution."
   ]
  },
  {
   "cell_type": "markdown",
   "metadata": {},
   "source": [
    "One of the best examples where Statistics used to drive business is Travel & Tourism.\n",
    "\n",
    "Following are the reasearchs that are related to the travel & tourism inustries:\n",
    "* How much people spend during the travel.\n",
    "* Type of people who travel.\n",
    "* What are the most visiting place where people go and when they usually travel such as hill stations, beach, islands, etc.\n",
    "* Factors affecting the decision of travel and its reason such as to relax, make memories, adventure, etc.\n",
    "* Apart from travel, what other things people used to do.\n",
    "* Marketing channels, stategies, and tactics for increase the return.\n",
    "* Prepare budgets and spend statistics.\n",
    "* How pandemic like Covid-19 affect the business and what will be the ecsape plan."
   ]
  }
 ],
 "metadata": {
  "kernelspec": {
   "display_name": "Python 3",
   "language": "python",
   "name": "python3"
  },
  "language_info": {
   "codemirror_mode": {
    "name": "ipython",
    "version": 3
   },
   "file_extension": ".py",
   "mimetype": "text/x-python",
   "name": "python",
   "nbconvert_exporter": "python",
   "pygments_lexer": "ipython3",
   "version": "3.7.4"
  }
 },
 "nbformat": 4,
 "nbformat_minor": 4
}
