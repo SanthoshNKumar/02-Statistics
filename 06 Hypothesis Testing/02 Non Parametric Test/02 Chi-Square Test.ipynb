{
 "cells": [
  {
   "cell_type": "code",
   "execution_count": null,
   "metadata": {},
   "outputs": [],
   "source": [
    "'''\n",
    "Chi Square Test : \n",
    "    - Comparision of Categorical varibles\n",
    "    \n",
    "Types of Chi-Squared Test\n",
    "    1. Chi-Square Goodness of fit test \n",
    "    2. Chi-Square test for independence \n",
    "    \n",
    "Chi-Squared Test : For Godness of Fit\n",
    "   - Checks whether or not an observed pattern of data fits some given distribution\n",
    "\n",
    "Chi-Squared Test : For Independence\n",
    "- Checks whether two categorical variables are related or not (Independence)\n",
    "   \n",
    "Chi-square test: Correlation\n",
    "    - Finding the relationship between two categorical variables."
   ]
  },
  {
   "cell_type": "code",
   "execution_count": null,
   "metadata": {},
   "outputs": [],
   "source": [
    "'''\n",
    "\n",
    "Goodness of Fit:\n",
    "    - Decide if one variable is likely to come from a given distribution or not\n",
    "        \n",
    "Test of Independence:\n",
    "    - Decide if two variables might be related or not\n",
    "    \n",
    "What is Contingency table?\n",
    "    - Contingency table (also known as two-way tables) are grids in which Chi-square data is organized and displayed. "
   ]
  },
  {
   "cell_type": "markdown",
   "metadata": {},
   "source": [
    "### Chi-square goodness of fit test"
   ]
  },
  {
   "cell_type": "code",
   "execution_count": null,
   "metadata": {},
   "outputs": [],
   "source": [
    "'''\n",
    "The Chi-square goodness of fit test is used to compare a randomly collected sample containing a single, categorical variable\n",
    "to a larger population.\n",
    "\n",
    "Null Hypothesis (Ho): The collected data is consistent with the population distribution.\n",
    "\n",
    "Alternative Hypothesis (Ha): The collected data is not consistent with the population distribution."
   ]
  },
  {
   "cell_type": "code",
   "execution_count": 9,
   "metadata": {},
   "outputs": [
    {
     "data": {
      "text/plain": [
       "Power_divergenceResult(statistic=4.359999999999999, pvalue=0.3594720674366307)"
      ]
     },
     "execution_count": 9,
     "metadata": {},
     "output_type": "execute_result"
    }
   ],
   "source": [
    "#H0: (null hypothesis) A variable follows a hypothesized distribution.\n",
    "#H1: (alternative hypothesis) A variable does not follow a hypothesized distribution.\n",
    "\n",
    "import scipy.stats as stats\n",
    "\n",
    "expected = [50, 50, 50, 50, 50]\n",
    "observed = [50, 60, 40, 47, 53]\n",
    "#observed = [50, 50, 50, 50, 50]\n",
    "\n",
    "#perform Chi-Square Goodness of Fit Test\n",
    "stats.chisquare(f_obs=observed, f_exp=expected)\n",
    "\n",
    "# Since the p-value (0.35947) is not less than 0.05, we fail to reject the null hypothesis.\n",
    "# observed distribution is come from expected distribution\n"
   ]
  },
  {
   "cell_type": "code",
   "execution_count": null,
   "metadata": {},
   "outputs": [],
   "source": []
  },
  {
   "cell_type": "markdown",
   "metadata": {},
   "source": [
    "### Chi-square test of Independence"
   ]
  },
  {
   "cell_type": "code",
   "execution_count": null,
   "metadata": {},
   "outputs": [],
   "source": [
    "'''\n",
    "Chi-Squared Test : Tests whether two categorical variables are related or independent.\n",
    "\n",
    "The Chi-square test for independence looks for an association between two categorical variables within the same population.\n",
    "Unlike the goodness of fit test, the test for independence does not compare a single observed variable to a theoretical \n",
    "population, but rather two variables within a sample set to one another\n",
    "\n",
    "Null Hypothesis (Ho): There is no association between the two categorical variables in the population of interest.\n",
    "Alternative Hypothesis (Ha): There is no association between the two categorical variables in the population of interest."
   ]
  },
  {
   "cell_type": "markdown",
   "metadata": {},
   "source": [
    "### Example 01"
   ]
  },
  {
   "cell_type": "code",
   "execution_count": 1,
   "metadata": {},
   "outputs": [
    {
     "name": "stdout",
     "output_type": "stream",
     "text": [
      "stat=0.272, p=0.873\n",
      "Probably independent\n"
     ]
    }
   ],
   "source": [
    "# Test used to determine whether two categorical variables are independent of each other or not\n",
    "\n",
    "\n",
    "# Example of the Chi-Squared Test\n",
    "\n",
    "from scipy.stats import chi2_contingency\n",
    "table = [[10, 20, 30],[6,  9,  17]]\n",
    "stat, p, dof, expected = chi2_contingency(table)\n",
    "print('stat=%.3f, p=%.3f' % (stat, p))\n",
    "if p > 0.05:\n",
    "    print('Probably independent')\n",
    "else:\n",
    "    print('Probably dependent')"
   ]
  },
  {
   "cell_type": "code",
   "execution_count": 12,
   "metadata": {},
   "outputs": [
    {
     "name": "stdout",
     "output_type": "stream",
     "text": [
      "stat=0.000, p=1.000\n",
      "Probably independent\n"
     ]
    }
   ],
   "source": [
    "from scipy.stats import chi2_contingency\n",
    "\n",
    "table = [[10, 20, 30],[10, 20, 30]]\n",
    "stat, p, dof, expected = chi2_contingency(table)\n",
    "print('stat=%.3f, p=%.3f' % (stat, p))\n",
    "if p > 0.05:\n",
    "    print('Probably independent')\n",
    "else:\n",
    "    print('Probably dependent')"
   ]
  },
  {
   "cell_type": "markdown",
   "metadata": {},
   "source": [
    "### Example 02"
   ]
  },
  {
   "cell_type": "code",
   "execution_count": 4,
   "metadata": {},
   "outputs": [
    {
     "name": "stdout",
     "output_type": "stream",
     "text": [
      "p:0.0000006938211717\n",
      "Reject Null Hypothesis\n",
      "Probably dependent and there is a dependency between the samples. \n"
     ]
    }
   ],
   "source": [
    "import numpy as np\n",
    "from scipy import stats\n",
    "\n",
    "# Null Hypothesis: the two samples are independent.\n",
    "# Alternate Hypothesis:there is a dependency between the samples. \n",
    "\n",
    "men_women = np.array([[100,120,60],[350,200,90]]) \n",
    "_,p,_,_ = stats.chi2_contingency(men_women)\n",
    "\n",
    "print(\"p:{:.16f}\".format(float(p)))\n",
    "\n",
    "# Conclusion : here 'P value' is which is less than \n",
    "# We can reject the unll hypothesis\n",
    "\n",
    "if p > 0.05:\n",
    "    print(\"Accept Null Hypothesis\")\n",
    "    print('Probably independent')\n",
    "else:\n",
    "    print(\"Reject Null Hypothesis\")\n",
    "    print('Probably dependent and there is a dependency between the samples. ')"
   ]
  },
  {
   "cell_type": "code",
   "execution_count": null,
   "metadata": {},
   "outputs": [],
   "source": []
  },
  {
   "cell_type": "markdown",
   "metadata": {},
   "source": [
    "### Chi-square test for Homogeneity"
   ]
  },
  {
   "cell_type": "code",
   "execution_count": null,
   "metadata": {},
   "outputs": [],
   "source": [
    "The Chi-square test for homogeneity is organized and executed exactly the same as the test for independence. \n",
    "The main difference to remember between the two is that the test for independence looks for an association between two \n",
    "categorical variables within the same population, while the test for homogeneity determines if the distribution of a variable \n",
    "is the same in each of several populations (thus allocating population itself as the second categorical variable).\n",
    "\n",
    "Null Hypothesis (Ho): There is no difference in the distribution of a categorical variable for several populations or \n",
    "treatments.\n",
    "\n",
    "Alternative Hypothesis (Ha): There is a difference in the distribution of a categorical variable for several populations or \n",
    "treatments."
   ]
  },
  {
   "cell_type": "code",
   "execution_count": null,
   "metadata": {},
   "outputs": [],
   "source": []
  },
  {
   "cell_type": "markdown",
   "metadata": {},
   "source": [
    "### Chi-square test for Correlation"
   ]
  },
  {
   "cell_type": "code",
   "execution_count": null,
   "metadata": {},
   "outputs": [],
   "source": [
    "# Chi-Squared Test :\n",
    "# Tests whether two categorical variables are related or independent.\n",
    "\n",
    "# Assumptions:\n",
    "# Observations used in the calculation of the contingency table are independent.\n",
    "# 25 or more examples in each cell of the contingency table.\n",
    "\n",
    "# Null Hypothesis: the two samples are independent.\n",
    "# Alternate Hypothesis:there is a dependency between the samples."
   ]
  },
  {
   "cell_type": "code",
   "execution_count": null,
   "metadata": {},
   "outputs": [],
   "source": []
  }
 ],
 "metadata": {
  "kernelspec": {
   "display_name": "Python 3",
   "language": "python",
   "name": "python3"
  },
  "language_info": {
   "codemirror_mode": {
    "name": "ipython",
    "version": 3
   },
   "file_extension": ".py",
   "mimetype": "text/x-python",
   "name": "python",
   "nbconvert_exporter": "python",
   "pygments_lexer": "ipython3",
   "version": "3.7.4"
  }
 },
 "nbformat": 4,
 "nbformat_minor": 2
}
