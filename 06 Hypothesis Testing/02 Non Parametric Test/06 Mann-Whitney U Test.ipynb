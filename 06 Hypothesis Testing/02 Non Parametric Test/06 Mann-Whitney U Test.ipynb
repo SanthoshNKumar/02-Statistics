{
 "cells": [
  {
   "cell_type": "code",
   "execution_count": 1,
   "metadata": {},
   "outputs": [],
   "source": [
    "# Mann-Whitney U Test : - Equivalent Two Sample T Test (Unpaired T Text) or (Independent Samples T Test)\n",
    "\n",
    "# Tests whether the distributions of two independent samples are equal or not.\n",
    "\n",
    "# Assumptions\n",
    "# Observations in each sample are independent and identically distributed (iid).\n",
    "# Observations in each sample can be ranked.\n",
    "\n",
    "# Null Hypothesis :The distributions of both samples are equal.\n",
    "# Alternative Hypothesis : the distributions of both samples are not equal.\n"
   ]
  },
  {
   "cell_type": "code",
   "execution_count": 4,
   "metadata": {},
   "outputs": [
    {
     "name": "stdout",
     "output_type": "stream",
     "text": [
      "stat=40.000, p=0.236\n",
      "Accept null Hypothesis\n",
      "Probably the same distribution\n"
     ]
    }
   ],
   "source": [
    "# Example of the Mann-Whitney U Test\n",
    "from scipy.stats import mannwhitneyu\n",
    "data1 = [0.873, 2.817, 0.121, -0.945, -0.055, -1.436, 0.360, -1.478, -1.637, -1.869]\n",
    "data2 = [1.142, -0.432, -0.938, -0.729, -0.846, -0.157, 0.500, 1.183, -1.075, -0.169]\n",
    "stat, p = mannwhitneyu(data1, data2)\n",
    "print('stat=%.3f, p=%.3f' % (stat, p))\n",
    "if p > 0.05:\n",
    "    print(\"Accept null Hypothesis\")\n",
    "    print('Probably the same distribution')\n",
    "else:\n",
    "    print(\"Reject null Hypothesis\")\n",
    "    print('Probably different distributions')"
   ]
  },
  {
   "cell_type": "code",
   "execution_count": null,
   "metadata": {},
   "outputs": [],
   "source": []
  }
 ],
 "metadata": {
  "kernelspec": {
   "display_name": "Python 3",
   "language": "python",
   "name": "python3"
  },
  "language_info": {
   "codemirror_mode": {
    "name": "ipython",
    "version": 3
   },
   "file_extension": ".py",
   "mimetype": "text/x-python",
   "name": "python",
   "nbconvert_exporter": "python",
   "pygments_lexer": "ipython3",
   "version": "3.7.4"
  }
 },
 "nbformat": 4,
 "nbformat_minor": 2
}
