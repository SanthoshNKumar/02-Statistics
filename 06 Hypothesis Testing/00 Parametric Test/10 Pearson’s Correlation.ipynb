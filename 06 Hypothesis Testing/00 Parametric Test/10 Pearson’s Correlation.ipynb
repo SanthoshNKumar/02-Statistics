{
 "cells": [
  {
   "cell_type": "code",
   "execution_count": null,
   "metadata": {},
   "outputs": [],
   "source": [
    "# Correlation Tests : statistical tests that you can use to check if two samples are related.\n",
    "\n",
    "# Pearson’s Correlation Coefficient : Tests whether two samples have a linear relationship."
   ]
  },
  {
   "cell_type": "code",
   "execution_count": 7,
   "metadata": {},
   "outputs": [],
   "source": [
    "# Pearson’s Correlation Coefficient:\n",
    "# Tests whether two samples have a linear relationship.\n",
    "\n",
    "# Assumptions:\n",
    "# Observations in each sample are independent and identically distributed (iid)\n",
    "# Observations in each sample are normally distributed.\n",
    "# Observations in each sample have the same variance.\n",
    "\n",
    "\n",
    "# Null Hypothesis :the two samples are independent. (No Correlation between samples)\n",
    "# Alternate Hypothesis :there is a dependency between the samples. (there is a Correlation between samples)\n"
   ]
  },
  {
   "cell_type": "code",
   "execution_count": 8,
   "metadata": {},
   "outputs": [
    {
     "name": "stdout",
     "output_type": "stream",
     "text": [
      "stat=0.688, p=0.028\n",
      "Reject Null Hypothesis\n",
      "Probably dependent\n",
      "There is a Correlation between samples\n"
     ]
    }
   ],
   "source": [
    "# Example of the Pearson's Correlation test\n",
    "from scipy.stats import pearsonr\n",
    "\n",
    "data1 = [0.873, 2.817, 0.121, -0.945, -0.055, -1.436, 0.360, -1.478, -1.637, -1.869]\n",
    "data2 = [0.353, 3.517, 0.125, -7.545, -0.555, -1.536, 3.350, -1.578, -3.537, -1.579]\n",
    "stat, p = pearsonr(data1, data2)\n",
    "\n",
    "print('stat=%.3f, p=%.3f' % (stat, p))\n",
    "if p > 0.05:\n",
    "    print(\"Accept Null Hypothesis\")\n",
    "    print('Probably independent')\n",
    "    print(\"No Correlation between samples\")\n",
    "else:\n",
    "    print(\"Reject Null Hypothesis\")\n",
    "    print('Probably dependent')\n",
    "    print('There is a Correlation between samples')"
   ]
  },
  {
   "cell_type": "code",
   "execution_count": 1,
   "metadata": {},
   "outputs": [
    {
     "name": "stdout",
     "output_type": "stream",
     "text": [
      "stat=0.688, p=0.028\n",
      "Probably dependent\n"
     ]
    }
   ],
   "source": [
    "from scipy.stats import pearsonr\n",
    "\n",
    "data1 = [0.873, 2.817, 0.121, -0.945, -0.055, -1.436, 0.360, -1.478, -1.637, -1.869]\n",
    "data2 = [0.353, 3.517, 0.125, -7.545, -0.555, -1.536, 3.350, -1.578, -3.537, -1.579]\n",
    "stat, p = pearsonr(data1, data2)\n",
    "print('stat=%.3f, p=%.3f' % (stat, p))\n",
    "if p > 0.05:\n",
    "    print('Probably independent')\n",
    "else:\n",
    "    print('Probably dependent')"
   ]
  },
  {
   "cell_type": "code",
   "execution_count": null,
   "metadata": {},
   "outputs": [],
   "source": []
  }
 ],
 "metadata": {
  "kernelspec": {
   "display_name": "Python 3",
   "language": "python",
   "name": "python3"
  },
  "language_info": {
   "codemirror_mode": {
    "name": "ipython",
    "version": 3
   },
   "file_extension": ".py",
   "mimetype": "text/x-python",
   "name": "python",
   "nbconvert_exporter": "python",
   "pygments_lexer": "ipython3",
   "version": "3.7.4"
  }
 },
 "nbformat": 4,
 "nbformat_minor": 2
}
