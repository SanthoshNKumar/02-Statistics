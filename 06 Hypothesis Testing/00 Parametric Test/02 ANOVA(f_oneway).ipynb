{
 "cells": [
  {
   "cell_type": "code",
   "execution_count": 1,
   "metadata": {},
   "outputs": [],
   "source": [
    "# ANOVA  : Analysis of Variance\n",
    "# used to compare the means of more than 2 groups\n",
    "\n",
    "\n",
    "# Null hypotheses: Groups means are equal (no variation in means of groups)\n",
    "# Alternative hypotheses: At least, one group mean is different from other groups"
   ]
  },
  {
   "cell_type": "code",
   "execution_count": null,
   "metadata": {},
   "outputs": [],
   "source": [
    "# Analysis of Variance Test (ANOVA)\n",
    "# Tests whether the means of two or more independent samples are significantly different.\n",
    "\n",
    "# Assumptions:\n",
    "# Observations in each sample are independent and identically distributed (iid).\n",
    "# Observations in each sample are normally distributed.\n",
    "# Observations in each sample have the same variance.\n",
    "\n",
    "# Null Hypothesis: the means of the samples are equal.\n",
    "# Alternative Hypothesis: one or more of the means of the samples are unequal."
   ]
  },
  {
   "cell_type": "code",
   "execution_count": null,
   "metadata": {},
   "outputs": [],
   "source": [
    "'''\n",
    "What to do if this assumption is violated:\n",
    "\n",
    "# Transform the response values of your data so that the distributions are more normally distributed.\n",
    "# Perform an equivalent non-parametric test such as a Kruskal-Wallis Test"
   ]
  },
  {
   "cell_type": "code",
   "execution_count": null,
   "metadata": {},
   "outputs": [],
   "source": [
    "'''\n",
    "\n",
    "One Way ANOVA\n",
    "If the various experimental groups differ in terms of only one factor at a time- a One way ANOVA is used.\n",
    "e.g (1) A study to assess the effectiveness of four different antibiotics on S Sanguis.\n",
    "e.g (2) Testing the relationship between shoe brand (Nike, Adidas, Saucony, Hoka) and race finish times in a marathon.\n",
    "\n",
    "Two Way ANOVA\n",
    "If the various groups differ in terms of two or more factors at a time, then a Two way ANOVA is performed.\n",
    "e.g. (1) A study to assess the effectiveness of four different antibiotics on S Sanguis in three different age groups.",
   ]
  },
  {
   "cell_type": "code",
   "execution_count": 1,
   "metadata": {},
   "outputs": [
    {
     "name": "stdout",
     "output_type": "stream",
     "text": [
      "stat=0.096, p=0.908\n",
      "Accept Null Hypothesis\n",
      "Probably the same distribution\n"
     ]
    }
   ],
   "source": [
    "# Example of the Analysis of Variance Test\n",
    "from scipy.stats import f_oneway\n",
    "data1 = [0.873, 2.817, 0.121, -0.945, -0.055, -1.436, 0.360, -1.478, -1.637, -1.869]\n",
    "data2 = [1.142, -0.432, -0.938, -0.729, -0.846, -0.157, 0.500, 1.183, -1.075, -0.169]\n",
    "data3 = [-0.208, 0.696, 0.928, -1.148, -0.213, 0.229, 0.137, 0.269, -0.870, -1.204]\n",
    "stat, p = f_oneway(data1, data2, data3)\n",
    "\n",
    "print('stat=%.3f, p=%.3f' % (stat, p))\n",
    "\n",
    "if p > 0.05:\n",
    "    print(\"Accept Null Hypothesis\")\n",
    "    print('Probably the same distribution')\n",
    "else:\n",
    "    print(\"Reject Null Hypothesis\")\n",
    "    print('Probably different distributions')"
   ]
  },
  {
   "cell_type": "code",
   "execution_count": null,
   "metadata": {},
   "outputs": [],
   "source": []
  },
  {
   "cell_type": "markdown",
   "metadata": {},
   "source": [
    "### Example 02"
   ]
  },
  {
   "cell_type": "code",
   "execution_count": 2,
   "metadata": {},
   "outputs": [
    {
     "data": {
      "text/html": [
       "<div>\n",
       "<style scoped>\n",
       "    .dataframe tbody tr th:only-of-type {\n",
       "        vertical-align: middle;\n",
       "    }\n",
       "\n",
       "    .dataframe tbody tr th {\n",
       "        vertical-align: top;\n",
       "    }\n",
       "\n",
       "    .dataframe thead th {\n",
       "        text-align: right;\n",
       "    }\n",
       "</style>\n",
       "<table border=\"1\" class=\"dataframe\">\n",
       "  <thead>\n",
       "    <tr style=\"text-align: right;\">\n",
       "      <th></th>\n",
       "      <th>A</th>\n",
       "      <th>B</th>\n",
       "      <th>C</th>\n",
       "      <th>D</th>\n",
       "    </tr>\n",
       "  </thead>\n",
       "  <tbody>\n",
       "    <tr>\n",
       "      <th>0</th>\n",
       "      <td>25</td>\n",
       "      <td>45</td>\n",
       "      <td>30</td>\n",
       "      <td>54</td>\n",
       "    </tr>\n",
       "    <tr>\n",
       "      <th>1</th>\n",
       "      <td>30</td>\n",
       "      <td>55</td>\n",
       "      <td>29</td>\n",
       "      <td>60</td>\n",
       "    </tr>\n",
       "    <tr>\n",
       "      <th>2</th>\n",
       "      <td>28</td>\n",
       "      <td>29</td>\n",
       "      <td>33</td>\n",
       "      <td>51</td>\n",
       "    </tr>\n",
       "    <tr>\n",
       "      <th>3</th>\n",
       "      <td>36</td>\n",
       "      <td>56</td>\n",
       "      <td>37</td>\n",
       "      <td>62</td>\n",
       "    </tr>\n",
       "    <tr>\n",
       "      <th>4</th>\n",
       "      <td>29</td>\n",
       "      <td>40</td>\n",
       "      <td>27</td>\n",
       "      <td>73</td>\n",
       "    </tr>\n",
       "  </tbody>\n",
       "</table>\n",
       "</div>"
      ],
      "text/plain": [
       "    A   B   C   D\n",
       "0  25  45  30  54\n",
       "1  30  55  29  60\n",
       "2  28  29  33  51\n",
       "3  36  56  37  62\n",
       "4  29  40  27  73"
      ]
     },
     "execution_count": 2,
     "metadata": {},
     "output_type": "execute_result"
    }
   ],
   "source": [
    "import pandas as pd\n",
    "\n",
    "df = pd.DataFrame({\"A\":[25,30,28,36,29],\"B\":[45,55,29,56,40],\"C\":[30,29,33,37,27],\"D\":[54,60,51,62,73]})\n",
    "\n",
    "df"
   ]
  },
  {
   "cell_type": "code",
   "execution_count": 4,
   "metadata": {},
   "outputs": [
    {
     "data": {
      "text/plain": [
       "<matplotlib.axes._subplots.AxesSubplot at 0x258d6b04f08>"
      ]
     },
     "execution_count": 4,
     "metadata": {},
     "output_type": "execute_result"
    },
    {
     "data": {
      "image/png": "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\n",
      "text/plain": [
       "<Figure size 432x288 with 1 Axes>"
      ]
     },
     "metadata": {
      "needs_background": "light"
     },
     "output_type": "display_data"
    }
   ],
   "source": [
    "df.boxplot(column=['A', 'B', 'C', 'D'], grid=False)"
   ]
  },
  {
   "cell_type": "code",
   "execution_count": 7,
   "metadata": {},
   "outputs": [
    {
     "name": "stdout",
     "output_type": "stream",
     "text": [
      "pvalue: 2.639241146210922e-05\n",
      "The null hypothesis can be rejected\n"
     ]
    }
   ],
   "source": [
    "import scipy.stats as stats\n",
    "# stats f_oneway functions takes the groups as input and returns F and P-value\n",
    "fvalue, p = stats.f_oneway(df['A'], df['B'], df['C'], df['D'])\n",
    "print(\"pvalue:\",p)\n",
    "# 17.492810457516338 2.63\n",
    "\n",
    "if p < 0.05:  # null hypothesis: x comes from a normal distribution\n",
    "    print(\"The null hypothesis can be rejected\")\n",
    "else:\n",
    "    print(\"The null hypothesis cannot be rejected\")"
   ]
  },
  {
   "cell_type": "code",
   "execution_count": null,
   "metadata": {},
   "outputs": [],
   "source": []
  }
 ],
 "metadata": {
  "kernelspec": {
   "display_name": "Python 3",
   "language": "python",
   "name": "python3"
  },
  "language_info": {
   "codemirror_mode": {
    "name": "ipython",
    "version": 3
   },
   "file_extension": ".py",
   "mimetype": "text/x-python",
   "name": "python",
   "nbconvert_exporter": "python",
   "pygments_lexer": "ipython3",
   "version": "3.7.4"
  }
 },
 "nbformat": 4,
 "nbformat_minor": 2
}
