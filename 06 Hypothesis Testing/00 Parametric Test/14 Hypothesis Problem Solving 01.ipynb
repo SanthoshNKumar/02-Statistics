{
 "cells": [
  {
   "cell_type": "markdown",
   "metadata": {},
   "source": [
    "### Problem 01"
   ]
  },
  {
   "cell_type": "code",
   "execution_count": 1,
   "metadata": {},
   "outputs": [],
   "source": [
    "# Populations: All parents of black children age 6–18 and all parents of Hispanic children age 6–18\n",
    "\n",
    "# Parameter of Interest: p1 — p2, where p1 = black and p2 = Hispanic"
   ]
  },
  {
   "cell_type": "code",
   "execution_count": 2,
   "metadata": {},
   "outputs": [
    {
     "name": "stdout",
     "output_type": "stream",
     "text": [
      "p value : 0.9046233498564042\n"
     ]
    }
   ],
   "source": [
    "# Null Hypothesis: p1 — p2 = 0 (No Difference Between two Samples)\n",
    "# Alternative Hypothesis: p1 — p2 ≠ 0 (There is difference between Two Samples)\n",
    "\n",
    "# Data: 247 Parents of Black Children. 36.8% of parents report that their child has had some swimming lessons. \n",
    "#       308 Parents of Hispanic Children. 38.9% of parents report that their child has had some swimming lessons.\n",
    "\n",
    "\n",
    "# Approach: The difference in population proportion needs t-test. \n",
    "# Also, the population follows a binomial distribution here.\n",
    "#We can just pass on the two population quantities with the appropriate binomial distribution parameters to the t-test function.\n",
    "\n",
    "\n",
    "import warnings\n",
    "warnings.filterwarnings(\"ignore\")\n",
    "\n",
    "import numpy as np\n",
    "import statsmodels.api as sm\n",
    "\n",
    "n1 = 247\n",
    "p1 = .37\n",
    "\n",
    "n2 = 308\n",
    "p2 = .39\n",
    "\n",
    "population1 = np.random.binomial(1, p1, n1)\n",
    "population2 = np.random.binomial(1, p2, n2)\n",
    "_,p,_ = sm.stats.ttest_ind(population1, population2)\n",
    "\n",
    "print(\"p value :\",p)\n",
    "\n",
    "# Conclusion : p value which is greater than 0.05 so \n",
    "# we cannot reject the Null hypothesis that the difference in the population proportions is zero."
   ]
  },
  {
   "cell_type": "markdown",
   "metadata": {},
   "source": [
    "### Problem 02"
   ]
  },
  {
   "cell_type": "code",
   "execution_count": 3,
   "metadata": {},
   "outputs": [
    {
     "name": "stdout",
     "output_type": "stream",
     "text": [
      "P value : 0.039461189601168366\n"
     ]
    }
   ],
   "source": [
    "import numpy as np\n",
    "import statsmodels.api as sm\n",
    "# Problem :\n",
    "# Let’s say a cartwheeling competition was organized for some adults. The data looks like following,\n",
    "# (80.57, 98.96, 85.28, 83.83, 69.94, 89.59, 91.09, 66.25, 91.21, 82.7 , 73.54, 81.99, \n",
    "#  54.01, 82.89, 75.88, 98.32, 107.2 , 85.53, 79.08, 84.3 , 89.32, 86.35, 78.98, 92.26, 87.01)\n",
    "\n",
    "# Findout : Is the average cartwheel distance (in inches) for adults more than 80 inches?\n",
    "\n",
    "# Population: All adults\n",
    "# Parameter of Interest: μ, the population mean cartwheel distance.\n",
    "\n",
    "# Null Hypothesis: μ = 80\n",
    "# Alternative Hypothesis: μ > 80\n",
    "\n",
    "# Data:\n",
    "# 25 adult participants.\n",
    "# μ=83.84\n",
    "# σ=10.72\n",
    "\n",
    "cwdata = np.array([80.57, 98.96, 85.28, 83.83, 69.94, 89.59, 91.09, 66.25, 91.21, \n",
    "                   82.7 , 73.54, 81.99, 54.01, 82.89, 75.88, 98.32, 107.2 , 85.53, \n",
    "                   79.08, 84.3 , 89.32, 86.35, 78.98, 92.26, 87.01])\n",
    "\n",
    "_,p= sm.stats.ztest(cwdata, value = 80, alternative = \"larger\")\n",
    "\n",
    "print(\"P value :\",p)\n",
    "\n",
    "# Conclusion : P value which is lesser than 0.05(Confideance Interval) So we cannot Reject Null Hypothesis.\n",
    "# that the mean cartwheel distance for adults (a population quantity) is equal to 80 inches."
   ]
  },
  {
   "cell_type": "markdown",
   "metadata": {},
   "source": [
    "### Problem 03"
   ]
  },
  {
   "cell_type": "code",
   "execution_count": 4,
   "metadata": {},
   "outputs": [],
   "source": [
    "# Research question: In previous years,\n",
    "# 52% of parents believed that electronics and social media was the cause of their teenager’s lack of sleep. \n",
    "# Do more parents today believe that their teenager’s lack of sleep is caused due to electronics and social media?\n",
    "\n",
    "# Population: Parents with a teenager (age 13–18)\n",
    "# Parameter of Interest: p (proportion)\n",
    "    \n",
    "# Null Hypothesis: p = 0.52\n",
    "# Alternative Hypothesis: p > 0.52 (note that this is a one-sided test)\n",
    "    \n",
    "# Data: 1018 people were surveyed. 56% of those who were surveyed believe that their teenager’s lack of sleep is caused due \n",
    "# to electronics and social media.\n",
    "\n",
    "# Approach: Single group proportion uses z-statistic test. \n",
    "# We use theproportions_ztest() function from the Statsmodels package. \n",
    "# Note the argument alternative=\"larger\" indicating a one-sided test. \n",
    "# The function returns two values - the z-statistic and the corresponding p-value.\n",
    "\n",
    "import statsmodels.api as sm\n",
    "import numpy as np\n",
    "import matplotlib.pyplot as plt\n",
    "n = 1018\n",
    "pnull = .52\n",
    "phat = .56\n",
    "_,p= sm.stats.proportions_ztest(phat * n, n, pnull, alternative='larger')\n",
    "\n",
    "# Conclusion: Since the calculated p-value (~0.005) of the z-test is pretty small, \n",
    "# we can reject the Null hypothesis that the percentage of parents, \n",
    "# who believe that their teenager’s lack of sleep is caused due to electronics and # social media, is as same as \n",
    "# previous years’ estimate i.e. 52%.\n"
   ]
  }
 ],
 "metadata": {
  "kernelspec": {
   "display_name": "Python 3",
   "language": "python",
   "name": "python3"
  },
  "language_info": {
   "codemirror_mode": {
    "name": "ipython",
    "version": 3
   },
   "file_extension": ".py",
   "mimetype": "text/x-python",
   "name": "python",
   "nbconvert_exporter": "python",
   "pygments_lexer": "ipython3",
   "version": "3.7.4"
  }
 },
 "nbformat": 4,
 "nbformat_minor": 2
}
