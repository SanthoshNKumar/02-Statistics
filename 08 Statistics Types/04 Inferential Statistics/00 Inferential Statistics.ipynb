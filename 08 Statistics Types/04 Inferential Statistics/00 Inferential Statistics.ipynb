{
 "cells": [
  {
   "cell_type": "code",
   "execution_count": null,
   "metadata": {},
   "outputs": [],
   "source": [
    "'''\n",
    "Inferenctial Statistics : We are trying to infer (Conclusion) of data which is unknow to us\n",
    "\n",
    "Inferential statistics : \n",
    "    - Understanding population bhaviours from samples then we call that as inferential statistical techniques\n",
    "    - Example :\n",
    "        - Generate a research hypothesis.\n",
    "        - Confidence Interval\n",
    "        - Contingency Tables and Chi-Square Statistic\n",
    "        - Interval\n",
    "        - T-Test\n",
    "        - ANOVA\n",
    "        - Pearson Correlation\n",
    "        - Bi-variate Regression\n",
    "        - Multi-variate Regression"
   ]
  }
 ],
 "metadata": {
  "kernelspec": {
   "display_name": "Python 3",
   "language": "python",
   "name": "python3"
  },
  "language_info": {
   "codemirror_mode": {
    "name": "ipython",
    "version": 3
   },
   "file_extension": ".py",
   "mimetype": "text/x-python",
   "name": "python",
   "nbconvert_exporter": "python",
   "pygments_lexer": "ipython3",
   "version": "3.7.4"
  }
 },
 "nbformat": 4,
 "nbformat_minor": 2
}
