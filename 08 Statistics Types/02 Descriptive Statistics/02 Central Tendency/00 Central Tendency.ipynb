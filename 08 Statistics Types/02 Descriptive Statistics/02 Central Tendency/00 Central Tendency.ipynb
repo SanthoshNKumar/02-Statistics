{
 "cells": [
  {
   "cell_type": "code",
   "execution_count": 1,
   "metadata": {},
   "outputs": [],
   "source": [
    "import numpy as np\n",
    "from scipy import stats"
   ]
  },
  {
   "cell_type": "code",
   "execution_count": 2,
   "metadata": {},
   "outputs": [
    {
     "name": "stdout",
     "output_type": "stream",
     "text": [
      "[7 8 7 7 7 8 7 8 7 8 7 9 7 9 7 8 8 9 9 7]\n"
     ]
    }
   ],
   "source": [
    "# Central tendency  : It Gives us the basic distribution of data around the central value\n",
    "# It has three sub topics 1. Mean 2. Median 3. Mode\n",
    "\n",
    "m  = np.random.randint(7,10,20)\n",
    "\n",
    "print(m)"
   ]
  },
  {
   "cell_type": "markdown",
   "metadata": {},
   "source": [
    "### Mean"
   ]
  },
  {
   "cell_type": "code",
   "execution_count": 3,
   "metadata": {},
   "outputs": [
    {
     "data": {
      "text/plain": [
       "7.7"
      ]
     },
     "execution_count": 3,
     "metadata": {},
     "output_type": "execute_result"
    }
   ],
   "source": [
    "# mean : average of the all observed value\n",
    "\n",
    "np.mean(m)"
   ]
  },
  {
   "cell_type": "code",
   "execution_count": 1,
   "metadata": {},
   "outputs": [
    {
     "name": "stdout",
     "output_type": "stream",
     "text": [
      "Mean =  14.2\n"
     ]
    }
   ],
   "source": [
    "#Calculating the Mean (Page 33):\n",
    "\n",
    "#Import required libraries:\n",
    "from statistics import mean\n",
    "\n",
    "#Data:\n",
    "X = [5,8,15,18,25]\n",
    "\n",
    "#Finding mean:\n",
    "print(\"Mean = \",mean(X))"
   ]
  },
  {
   "cell_type": "markdown",
   "metadata": {},
   "source": [
    "### Weighted Mean"
   ]
  },
  {
   "cell_type": "code",
   "execution_count": 2,
   "metadata": {},
   "outputs": [
    {
     "name": "stdout",
     "output_type": "stream",
     "text": [
      "Weighted Mean =  14.285714285714286\n"
     ]
    }
   ],
   "source": [
    "#Calculating the Weighted Mean (Page 34):\n",
    "\n",
    "#Import required libraries:\n",
    "import  numpy as np\n",
    "\n",
    "#Data:\n",
    "X = [5,10,15,20,25]\n",
    "\n",
    "#Weight:\n",
    "Y = [1,2,2,1,1]\n",
    "\n",
    "#Finding weighted mean:\n",
    "print(\"Weighted Mean = \",np.average(X,weights=Y))"
   ]
  },
  {
   "cell_type": "markdown",
   "metadata": {},
   "source": [
    "### Geometric Mean"
   ]
  },
  {
   "cell_type": "code",
   "execution_count": 3,
   "metadata": {},
   "outputs": [
    {
     "name": "stdout",
     "output_type": "stream",
     "text": [
      "Geometric Mean = 28.844991406148168\n"
     ]
    }
   ],
   "source": [
    "#Import required libraries:\n",
    "from scipy import stats\n",
    "\n",
    "#Data:\n",
    "X = [20,30,40]\n",
    "\n",
    "#Finding Geometric Mean:\n",
    "print(\"Geometric Mean =\",stats.gmean(X))"
   ]
  },
  {
   "cell_type": "markdown",
   "metadata": {},
   "source": [
    "### Harmonic Mean"
   ]
  },
  {
   "cell_type": "code",
   "execution_count": null,
   "metadata": {},
   "outputs": [],
   "source": [
    "#Calculating the Harmonic Mean (Page 37):\n",
    "\n",
    "#Import required libraries:\n",
    "from statistics import harmonic_mean\n",
    "\n",
    "#Data:\n",
    "X = [20,30,15]\n",
    "\n",
    "#Finding harmonic mean:\n",
    "print(\"Harmonic Mean =\",harmonic_mean([20,30,15]))"
   ]
  },
  {
   "cell_type": "markdown",
   "metadata": {},
   "source": [
    "### Median"
   ]
  },
  {
   "cell_type": "code",
   "execution_count": 4,
   "metadata": {},
   "outputs": [
    {
     "data": {
      "text/plain": [
       "7.5"
      ]
     },
     "execution_count": 4,
     "metadata": {},
     "output_type": "execute_result"
    }
   ],
   "source": [
    "# Median :Middle value of the data distribution\n",
    "\n",
    "#Median (Page 39):\n",
    "#Odd number of observations:\n",
    "\n",
    "#Import required libraries:\n",
    "from statistics import median\n",
    "\n",
    "#Data:\n",
    "X =[3,4,11,56,93]\n",
    "\n",
    "#Finding median:\n",
    "print(\"Median =\",median(X))"
   ]
  },
  {
   "cell_type": "code",
   "execution_count": null,
   "metadata": {},
   "outputs": [],
   "source": [
    "#Even number of observations:\n",
    "\n",
    "#Import required libraries:\n",
    "from statistics import median\n",
    "\n",
    "#Data:\n",
    "X = [3,4,11,56,93,100]\n",
    "\n",
    "#Finding median:\n",
    "print(\"Median =\",median(X))"
   ]
  },
  {
   "cell_type": "markdown",
   "metadata": {},
   "source": [
    "### Mode"
   ]
  },
  {
   "cell_type": "code",
   "execution_count": 4,
   "metadata": {},
   "outputs": [
    {
     "name": "stdout",
     "output_type": "stream",
     "text": [
      "Mode = 32\n"
     ]
    }
   ],
   "source": [
    "# mode:Most frequent occurying value in the data\n",
    "\n",
    "#Import required libraries:\n",
    "from statistics import mode\n",
    "\n",
    "#Data:\n",
    "X = [2,7,18,32,32,45,78]\n",
    "\n",
    "#We have to use try-except in case there is no mode or more than one modes:\n",
    "try:\n",
    "    print(\"Mode =\",mode(X))\n",
    "except:\n",
    "    print(\"Mode not found!\")"
   ]
  },
  {
   "cell_type": "code",
   "execution_count": 5,
   "metadata": {},
   "outputs": [
    {
     "name": "stdout",
     "output_type": "stream",
     "text": [
      "Mode not found!\n"
     ]
    }
   ],
   "source": [
    "#Import required libraries:\n",
    "from statistics import mode\n",
    "\n",
    "#Data:\n",
    "X = [2,7,18,32,46,54]\n",
    "\n",
    "#We have to use try-except in case there is no mode or more than one modes:\n",
    "try:\n",
    "    print(\"Mode =\",mode(X))\n",
    "except:\n",
    "    print(\"Mode not found!\")\n",
    "    \n",
    "#An error is thrown when there are no mode."
   ]
  },
  {
   "cell_type": "code",
   "execution_count": 6,
   "metadata": {},
   "outputs": [
    {
     "name": "stdout",
     "output_type": "stream",
     "text": [
      "Mode not found!\n"
     ]
    }
   ],
   "source": [
    "#Import required libraries:\n",
    "from statistics import mode\n",
    "\n",
    "#Data:\n",
    "X = [2,7,18,18,34,57,57,89]\n",
    "\n",
    "#We have to use try-except in case there is no mode or more than one modes:\n",
    "try:\n",
    "    print(\"Mode =\",mode(X))\n",
    "except:\n",
    "    print(\"Mode not found!\")\n",
    "      \n",
    "#An error is thrown in there are more than one mode."
   ]
  },
  {
   "cell_type": "markdown",
   "metadata": {},
   "source": [
    "### Population and Sample"
   ]
  },
  {
   "cell_type": "code",
   "execution_count": 6,
   "metadata": {},
   "outputs": [
    {
     "data": {
      "text/plain": [
       "array([11, 15, 11, 18, 12, 12, 13, 18, 15, 19, 10, 11, 16, 19, 10, 17, 10,\n",
       "       14, 13, 11, 10, 12, 19, 18, 15, 17, 17, 11, 18, 11, 16, 19, 17, 13,\n",
       "       10, 13, 11, 16, 17, 16, 12, 17, 14, 18, 14, 17, 14, 11, 16, 11, 18,\n",
       "       18, 14, 16, 15, 13, 12, 14, 10, 10, 16, 16, 15, 12, 19, 10, 10, 16,\n",
       "       19, 14, 12, 12, 11, 13, 12, 10, 16, 10, 11, 18, 10, 19, 15, 15, 11,\n",
       "       18, 18, 18, 11, 12, 12, 19, 18, 18, 19, 11, 15, 12, 19, 19])"
      ]
     },
     "execution_count": 6,
     "metadata": {},
     "output_type": "execute_result"
    }
   ],
   "source": [
    "# Population : Total observation  \n",
    "\n",
    "# Sample : Subset of Population which describes the population\n",
    "\n",
    "population = np.random.randint(10,20,100)\n",
    "population"
   ]
  },
  {
   "cell_type": "code",
   "execution_count": 7,
   "metadata": {},
   "outputs": [
    {
     "data": {
      "text/plain": [
       "14.36"
      ]
     },
     "execution_count": 7,
     "metadata": {},
     "output_type": "execute_result"
    }
   ],
   "source": [
    "np.mean(population)"
   ]
  },
  {
   "cell_type": "code",
   "execution_count": 8,
   "metadata": {},
   "outputs": [
    {
     "data": {
      "text/plain": [
       "14.0"
      ]
     },
     "execution_count": 8,
     "metadata": {},
     "output_type": "execute_result"
    }
   ],
   "source": [
    "np.median(population)"
   ]
  },
  {
   "cell_type": "code",
   "execution_count": 9,
   "metadata": {},
   "outputs": [
    {
     "data": {
      "text/plain": [
       "ModeResult(mode=array([11]), count=array([14]))"
      ]
     },
     "execution_count": 9,
     "metadata": {},
     "output_type": "execute_result"
    }
   ],
   "source": [
    "stats.mode(population)"
   ]
  },
  {
   "cell_type": "code",
   "execution_count": 10,
   "metadata": {},
   "outputs": [
    {
     "data": {
      "text/plain": [
       "array([11, 13, 13, 16, 18, 12, 17, 12, 11, 11, 18, 14, 11, 16, 16, 10, 11,\n",
       "       15, 19, 15])"
      ]
     },
     "execution_count": 10,
     "metadata": {},
     "output_type": "execute_result"
    }
   ],
   "source": [
    "sample = np.random.choice(population,20)\n",
    "\n",
    "sample"
   ]
  },
  {
   "cell_type": "code",
   "execution_count": 11,
   "metadata": {},
   "outputs": [
    {
     "data": {
      "text/plain": [
       "13.95"
      ]
     },
     "execution_count": 11,
     "metadata": {},
     "output_type": "execute_result"
    }
   ],
   "source": [
    "np.mean(sample)"
   ]
  },
  {
   "cell_type": "code",
   "execution_count": 12,
   "metadata": {},
   "outputs": [
    {
     "data": {
      "text/plain": [
       "13.5"
      ]
     },
     "execution_count": 12,
     "metadata": {},
     "output_type": "execute_result"
    }
   ],
   "source": [
    "np.median(sample)"
   ]
  },
  {
   "cell_type": "code",
   "execution_count": 13,
   "metadata": {},
   "outputs": [
    {
     "data": {
      "text/plain": [
       "ModeResult(mode=array([11]), count=array([5]))"
      ]
     },
     "execution_count": 13,
     "metadata": {},
     "output_type": "execute_result"
    }
   ],
   "source": [
    "stats.mode(sample)"
   ]
  },
  {
   "cell_type": "code",
   "execution_count": 14,
   "metadata": {},
   "outputs": [
    {
     "data": {
      "text/plain": [
       "[14.466666666666667, 15.066666666666666, 14.2, 14.066666666666666]"
      ]
     },
     "execution_count": 14,
     "metadata": {},
     "output_type": "execute_result"
    }
   ],
   "source": [
    "sample_1 = np.random.choice(population,15)\n",
    "sample_2 = np.random.choice(population,15)\n",
    "sample_3 = np.random.choice(population,15)\n",
    "sample_4 = np.random.choice(population,15)\n",
    "\n",
    "all_samples = [sample_1,sample_2,sample_3,sample_4]\n",
    "sample_mean = []\n",
    "\n",
    "for i in all_samples:\n",
    "    sample_mean.append(np.mean(i))\n",
    "    \n",
    "sample_mean"
   ]
  },
  {
   "cell_type": "code",
   "execution_count": 15,
   "metadata": {},
   "outputs": [
    {
     "data": {
      "text/plain": [
       "14.45"
      ]
     },
     "execution_count": 15,
     "metadata": {},
     "output_type": "execute_result"
    }
   ],
   "source": [
    "np.mean(sample_mean)"
   ]
  },
  {
   "cell_type": "code",
   "execution_count": 16,
   "metadata": {},
   "outputs": [
    {
     "data": {
      "text/plain": [
       "14.36"
      ]
     },
     "execution_count": 16,
     "metadata": {},
     "output_type": "execute_result"
    }
   ],
   "source": [
    "np.mean(population)"
   ]
  },
  {
   "cell_type": "markdown",
   "metadata": {},
   "source": [
    "### Data Spread "
   ]
  },
  {
   "cell_type": "code",
   "execution_count": 17,
   "metadata": {},
   "outputs": [],
   "source": [
    "# Measure of Spread : It Gives the measure of variability in the data and how well data is distributed\n",
    "# To get the overall description of the data we use central tendency and measure of descrition.\n",
    "\n",
    "# Where do we use it ? : Election pools;Judge test Scopre ; Percentage increase in salary\n"
   ]
  },
  {
   "cell_type": "code",
   "execution_count": 18,
   "metadata": {},
   "outputs": [],
   "source": [
    "# Measure of Spread has 4 categories : 1. range 2. Quartile 3. Variance 4. Standard Deviation"
   ]
  },
  {
   "cell_type": "markdown",
   "metadata": {},
   "source": [
    "### Range"
   ]
  },
  {
   "cell_type": "code",
   "execution_count": 19,
   "metadata": {},
   "outputs": [
    {
     "name": "stdout",
     "output_type": "stream",
     "text": [
      "[0.716728   0.29876914 0.83404657 0.45302692 0.76203109 0.21339676\n",
      " 0.27063829 0.02723492 0.45764429]\n"
     ]
    },
    {
     "data": {
      "text/plain": [
       "0.8068116544730503"
      ]
     },
     "execution_count": 19,
     "metadata": {},
     "output_type": "execute_result"
    }
   ],
   "source": [
    "# Range : It gives how well data is spreadout\n",
    "\n",
    "n = np.random.rand(9)\n",
    "print(n)\n",
    "\n",
    "# Range\n",
    "np.max(n) - np.min(n)"
   ]
  },
  {
   "cell_type": "code",
   "execution_count": null,
   "metadata": {},
   "outputs": [],
   "source": []
  },
  {
   "cell_type": "markdown",
   "metadata": {},
   "source": [
    "### Quartile"
   ]
  },
  {
   "cell_type": "code",
   "execution_count": 20,
   "metadata": {},
   "outputs": [
    {
     "name": "stdout",
     "output_type": "stream",
     "text": [
      "Q1 =  0.2706382938531007\n",
      "Q2 =  0.45302692096593034\n",
      "Q3 =  0.7167280047885983\n",
      "IQR =  0.44608971093549765\n"
     ]
    }
   ],
   "source": [
    "# Quartile : Devide the data into 4 sets and get the median in between\n",
    "\n",
    "# First quartile\n",
    "Q1 = np.percentile(n,25)\n",
    "print(\"Q1 = \",Q1)\n",
    "\n",
    "# Secnd quartile\n",
    "Q2 = np.percentile(n,50)\n",
    "print(\"Q2 = \",Q2)\n",
    "\n",
    "# Third quartile\n",
    "Q3 = np.percentile(n,75)\n",
    "print(\"Q3 = \",Q3)\n",
    "\n",
    "# IQR = Interquartile range\n",
    "\n",
    "IQR = Q3 - Q1\n",
    "\n",
    "print(\"IQR = \",IQR)"
   ]
  },
  {
   "cell_type": "code",
   "execution_count": 7,
   "metadata": {},
   "outputs": [
    {
     "name": "stdout",
     "output_type": "stream",
     "text": [
      "Min = 2\n",
      "Q1 = 9.0\n",
      "Q2 = 56.0\n",
      "Q3 = 80.0\n",
      "Max = 95\n"
     ]
    }
   ],
   "source": [
    "#Odd number of observations:\n",
    "\n",
    "#Import required libraries:\n",
    "import numpy as np\n",
    "X = [2,3,7,11,29,56,57,78,82,89,95]\n",
    "\n",
    "#Print the values:\n",
    "print(\"Min =\",np.quantile(X,0))\n",
    "print(\"Q1 =\",np.quantile(X,0.25))\n",
    "print(\"Q2 =\",np.quantile(X,0.50))\n",
    "print(\"Q3 =\",np.quantile(X,0.75))\n",
    "print(\"Max =\",np.quantile(X,1))"
   ]
  },
  {
   "cell_type": "code",
   "execution_count": 8,
   "metadata": {},
   "outputs": [
    {
     "name": "stdout",
     "output_type": "stream",
     "text": [
      "Min = 2\n",
      "Q1 = 8.0\n",
      "Q2 = 42.5\n",
      "Q3 = 72.75\n",
      "Max = 89\n"
     ]
    }
   ],
   "source": [
    "#Even number of observations:\n",
    "\n",
    "#Import required libraries:\n",
    "import numpy as np\n",
    "X = [2,3,7,11,29,56,57,78,82,89]\n",
    "\n",
    "#Print the values:\n",
    "print(\"Min =\",np.quantile(X,0))\n",
    "print(\"Q1 =\",np.quantile(X,0.25))\n",
    "print(\"Q2 =\",np.quantile(X,0.50))\n",
    "print(\"Q3 =\",np.quantile(X,0.75))\n",
    "print(\"Max =\",np.quantile(X,1))"
   ]
  },
  {
   "cell_type": "code",
   "execution_count": 9,
   "metadata": {},
   "outputs": [
    {
     "name": "stdout",
     "output_type": "stream",
     "text": [
      "Percentile Rank for 7 = 60.0\n",
      "Percentile Rank for 9 = 80.0\n"
     ]
    }
   ],
   "source": [
    "from scipy import stats\n",
    "\n",
    "#Data:\n",
    "X= [1,2,3,4,5,6,7,8,9,10]\n",
    "\n",
    "#Find the percentile rank:\n",
    "print(\"Percentile Rank for 7 =\",stats.percentileofscore(X,7,kind=\"strict\"))\n",
    "print(\"Percentile Rank for 9 =\",stats.percentileofscore(X,9,kind=\"strict\"))"
   ]
  },
  {
   "cell_type": "code",
   "execution_count": 10,
   "metadata": {},
   "outputs": [
    {
     "name": "stdout",
     "output_type": "stream",
     "text": [
      "Percentile Rank for 5 = 50.0\n"
     ]
    }
   ],
   "source": [
    "from scipy import stats\n",
    "\n",
    "#Data:\n",
    "X= [1,2,2,3,4,5,5,6,7,8]\n",
    "\n",
    "#Find the percentile rank:\n",
    "print(\"Percentile Rank for 5 =\",stats.percentileofscore(X,5,kind=\"strict\"))"
   ]
  },
  {
   "cell_type": "code",
   "execution_count": 11,
   "metadata": {},
   "outputs": [
    {
     "name": "stdout",
     "output_type": "stream",
     "text": [
      "75th = 74.0\n",
      "70th = 71.0\n",
      "40th = 11.0\n"
     ]
    }
   ],
   "source": [
    "#Import required libraries:\n",
    "import numpy as np\n",
    "\n",
    "#Data:\n",
    "X = [2,5,6,8,11,45,64,71,77,89,93]\n",
    "\n",
    "#Print the values:\n",
    "print(\"75th =\",np.percentile(X,75))\n",
    "print(\"70th =\",np.percentile(X,70))\n",
    "print(\"40th =\",np.percentile(X,40))"
   ]
  },
  {
   "cell_type": "code",
   "execution_count": 12,
   "metadata": {},
   "outputs": [
    {
     "name": "stdout",
     "output_type": "stream",
     "text": [
      "10th = 5.0\n",
      "25th = 7.0\n",
      "75th = 74.0\n"
     ]
    }
   ],
   "source": [
    "#Import required libraries:\n",
    "import numpy as np\n",
    "\n",
    "#Data:\n",
    "X = [2,5,6,8,11,45,64,71,77,89,93]\n",
    "\n",
    "#Print the values:\n",
    "print(\"10th =\",np.percentile(X,10))\n",
    "print(\"25th =\",np.percentile(X,25))\n",
    "print(\"75th =\",np.percentile(X,75))"
   ]
  },
  {
   "cell_type": "code",
   "execution_count": null,
   "metadata": {},
   "outputs": [],
   "source": []
  },
  {
   "cell_type": "markdown",
   "metadata": {},
   "source": [
    "### Inter Quartile Range(IQR)"
   ]
  },
  {
   "cell_type": "code",
   "execution_count": 13,
   "metadata": {},
   "outputs": [
    {
     "name": "stdout",
     "output_type": "stream",
     "text": [
      "Interquartile Range = 19\n"
     ]
    }
   ],
   "source": [
    "#Import required libraries:\n",
    "from scipy import stats\n",
    "\n",
    "#Data:\n",
    "X = [2,5,6,8,11,15,19,21,25,28,31]\n",
    "\n",
    "#Interquartile Range:\n",
    "print(\"Interquartile Range =\",stats.iqr(X,interpolation=\"nearest\"))"
   ]
  },
  {
   "cell_type": "code",
   "execution_count": 14,
   "metadata": {},
   "outputs": [
    {
     "name": "stdout",
     "output_type": "stream",
     "text": [
      "Range = 498\n",
      "Interquartile Range = 19\n"
     ]
    }
   ],
   "source": [
    "#Import required libraries:\n",
    "from scipy import stats\n",
    "\n",
    "#Data:\n",
    "X = [2,5,6,8,11,15,19,21,25,28,500]\n",
    "\n",
    "#Range:\n",
    "print(\"Range =\",(max(X)-min(X)))\n",
    "\n",
    "#Interquartile Range:\n",
    "print(\"Interquartile Range =\",stats.iqr(X,interpolation=\"nearest\"))"
   ]
  },
  {
   "cell_type": "code",
   "execution_count": null,
   "metadata": {},
   "outputs": [],
   "source": []
  },
  {
   "cell_type": "markdown",
   "metadata": {},
   "source": [
    "### Variance"
   ]
  },
  {
   "cell_type": "code",
   "execution_count": 21,
   "metadata": {},
   "outputs": [],
   "source": [
    "# Variance : Tells how spread out(far away) a number is from the mean"
   ]
  },
  {
   "cell_type": "code",
   "execution_count": 22,
   "metadata": {},
   "outputs": [
    {
     "data": {
      "text/plain": [
       "array([ 0.76606148,  1.01608565,  0.17534481,  0.48779136,  0.23662643,\n",
       "       -0.59855248,  0.7769444 , -0.23187811, -1.0282223 ,  0.51328009,\n",
       "       -0.22303071, -0.92391387,  0.43283378,  0.31895869, -0.60346636,\n",
       "       -0.16546169, -0.01637054, -1.21162588,  1.30349828,  0.65641923,\n",
       "       -0.6554968 ,  0.36312184, -1.6958296 , -1.25162876,  0.88648833,\n",
       "        0.3435844 ,  2.31601166,  0.66054709,  0.82585636, -0.29999642,\n",
       "       -0.37364892,  2.13563883,  0.13294411, -0.68774989, -1.49497689,\n",
       "       -1.34502917,  0.33581371,  1.57448141,  1.31725475,  1.21558793,\n",
       "       -1.22918696,  0.36377276,  0.79930769,  0.95654063, -1.21527544,\n",
       "       -2.56529362, -1.20283752, -0.65913621,  0.74615846, -0.6912409 ,\n",
       "       -0.43968387, -0.39273598, -1.10586933,  0.962507  ,  0.91655818,\n",
       "        0.04904157, -0.64053421,  0.07008812,  1.02888626,  1.28605279,\n",
       "       -0.21196337, -1.77258701, -1.38520936,  2.44936598, -0.15283426,\n",
       "       -0.21880012,  0.01607557, -1.2604335 ,  0.34273729, -2.26459664,\n",
       "        0.41306668,  0.90912299, -0.05952558,  1.02760855,  0.50795427,\n",
       "       -0.86952622, -0.07548167,  1.35149381, -0.837376  ,  0.59762594,\n",
       "       -1.54246678, -0.19822459, -0.30871072,  0.30141447, -2.30613301,\n",
       "        0.950505  , -0.05973437,  0.97243514,  0.4729026 ,  0.04933528,\n",
       "       -0.14866029,  1.43305352, -0.14730151, -1.11732201,  2.41386047,\n",
       "       -0.91490887, -2.23239551,  0.44514987,  1.55053401,  1.05408318])"
      ]
     },
     "execution_count": 22,
     "metadata": {},
     "output_type": "execute_result"
    }
   ],
   "source": [
    "population = np.random.randn(100)\n",
    "\n",
    "population"
   ]
  },
  {
   "cell_type": "code",
   "execution_count": 23,
   "metadata": {},
   "outputs": [
    {
     "data": {
      "text/plain": [
       "0.744963246236706"
      ]
     },
     "execution_count": 23,
     "metadata": {},
     "output_type": "execute_result"
    }
   ],
   "source": [
    "sample = np.random.choice(population,30)\n",
    "\n",
    "np.var(sample)"
   ]
  },
  {
   "cell_type": "code",
   "execution_count": 24,
   "metadata": {},
   "outputs": [
    {
     "data": {
      "text/plain": [
       "1.1025295922004044"
      ]
     },
     "execution_count": 24,
     "metadata": {},
     "output_type": "execute_result"
    }
   ],
   "source": [
    "np.var(population)"
   ]
  },
  {
   "cell_type": "code",
   "execution_count": 15,
   "metadata": {},
   "outputs": [
    {
     "name": "stdout",
     "output_type": "stream",
     "text": [
      "Variance = 466.6666666666667\n"
     ]
    }
   ],
   "source": [
    "#Import required libraries:\n",
    "from statistics import variance\n",
    "\n",
    "#Data:\n",
    "X = [20,30,25,50,70,45,75]\n",
    "\n",
    "#Print variance:\n",
    "print(\"Variance =\",variance(X))"
   ]
  },
  {
   "cell_type": "code",
   "execution_count": 18,
   "metadata": {},
   "outputs": [
    {
     "name": "stdout",
     "output_type": "stream",
     "text": [
      "Variance = 400\n"
     ]
    }
   ],
   "source": [
    "#Population variance:\n",
    "\n",
    "#Import required libraries:\n",
    "from statistics import pvariance\n",
    "\n",
    "#Data:\n",
    "X = [20,30,25,50,70,45,75]\n",
    "\n",
    "#Print variance:\n",
    "print(\"Variance =\",pvariance(X))"
   ]
  },
  {
   "cell_type": "code",
   "execution_count": null,
   "metadata": {},
   "outputs": [],
   "source": []
  },
  {
   "cell_type": "markdown",
   "metadata": {},
   "source": [
    "### Standard Deviation"
   ]
  },
  {
   "cell_type": "code",
   "execution_count": 25,
   "metadata": {},
   "outputs": [
    {
     "data": {
      "text/plain": [
       "0.8631125339355847"
      ]
     },
     "execution_count": 25,
     "metadata": {},
     "output_type": "execute_result"
    }
   ],
   "source": [
    "# Standard Deviation : Square root of variance.while varinace gives you rough idea of spread, \n",
    "# the standard deviation iis more concrete, giving you exact distances from the mean\n",
    "\n",
    "np.std(sample)"
   ]
  },
  {
   "cell_type": "code",
   "execution_count": 19,
   "metadata": {},
   "outputs": [
    {
     "name": "stdout",
     "output_type": "stream",
     "text": [
      "Standard Deviation = 21.602468994692867\n"
     ]
    }
   ],
   "source": [
    "#Import required libraries:\n",
    "from statistics import stdev\n",
    "\n",
    "#Data:\n",
    "X = [20,30,25,50,70,45,75]\n",
    "\n",
    "#Print Standard Deviation:\n",
    "print(\"Standard Deviation =\",stdev(X))"
   ]
  },
  {
   "cell_type": "code",
   "execution_count": 20,
   "metadata": {},
   "outputs": [
    {
     "name": "stdout",
     "output_type": "stream",
     "text": [
      "Standard Deviation = 20.0\n"
     ]
    }
   ],
   "source": [
    "#Population Standard Deviation (Page 68):\n",
    "\n",
    "#Import required libraries:\n",
    "from statistics import pstdev\n",
    "\n",
    "#Data:\n",
    "X = [20,30,25,50,70,45,75]\n",
    "\n",
    "#Print Standard Deviation:\n",
    "print(\"Standard Deviation =\",pstdev(X))"
   ]
  },
  {
   "cell_type": "code",
   "execution_count": null,
   "metadata": {},
   "outputs": [],
   "source": []
  },
  {
   "cell_type": "markdown",
   "metadata": {},
   "source": [
    "### Mean Absolute Deviation"
   ]
  },
  {
   "cell_type": "code",
   "execution_count": 21,
   "metadata": {},
   "outputs": [
    {
     "name": "stdout",
     "output_type": "stream",
     "text": [
      "Mean Absolute Deviation =  6.666666666666667\n"
     ]
    }
   ],
   "source": [
    "#Mean Absolute Deviation (Page 74):\n",
    "\n",
    "#Import required libraries:\n",
    "from numpy import mean, absolute\n",
    "\n",
    "#Data:\n",
    "X = [18,20,34]\n",
    "\n",
    "#Print Mean Absolute Deviation:\n",
    "print(\"Mean Absolute Deviation = \",mean(absolute(X - mean(X))) )"
   ]
  },
  {
   "cell_type": "code",
   "execution_count": null,
   "metadata": {},
   "outputs": [],
   "source": []
  },
  {
   "cell_type": "markdown",
   "metadata": {},
   "source": [
    "### Coefficient of variation"
   ]
  },
  {
   "cell_type": "code",
   "execution_count": 22,
   "metadata": {},
   "outputs": [
    {
     "name": "stdout",
     "output_type": "stream",
     "text": [
      "Coefficient of variation for X = 0.002701021298743379\n",
      "Coefficient of variation for Y = 0.008920960934171577\n"
     ]
    }
   ],
   "source": [
    "#Import required libraries:\n",
    "from statistics import mean,stdev\n",
    "\n",
    "#Data:\n",
    "X = [51710,51350,51400,51450,51460]\n",
    "Y = [62.009,61.962,62.797,61.996,63.158]\n",
    "\n",
    "#Standard Deviation:\n",
    "std_X = stdev(X)\n",
    "std_Y = stdev(Y)\n",
    "\n",
    "#Mean:\n",
    "mean_X = mean(X)\n",
    "mean_Y = mean(Y)\n",
    "\n",
    "#Print coefficient of varition:\n",
    "print(\"Coefficient of variation for X =\",std_X/mean_X)\n",
    "print(\"Coefficient of variation for Y =\",std_Y/mean_Y)"
   ]
  },
  {
   "cell_type": "code",
   "execution_count": null,
   "metadata": {},
   "outputs": [],
   "source": []
  }
 ],
 "metadata": {
  "kernelspec": {
   "display_name": "Python 3",
   "language": "python",
   "name": "python3"
  },
  "language_info": {
   "codemirror_mode": {
    "name": "ipython",
    "version": 3
   },
   "file_extension": ".py",
   "mimetype": "text/x-python",
   "name": "python",
   "nbconvert_exporter": "python",
   "pygments_lexer": "ipython3",
   "version": "3.7.4"
  }
 },
 "nbformat": 4,
 "nbformat_minor": 2
}
